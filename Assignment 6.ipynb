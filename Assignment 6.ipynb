{
 "cells": [
  {
   "cell_type": "markdown",
   "metadata": {},
   "source": [
    "# Assignment 6"
   ]
  },
  {
   "cell_type": "markdown",
   "metadata": {},
   "source": [
    "# Project on Send Email Using Python Script"
   ]
  },
  {
   "cell_type": "code",
   "execution_count": 1,
   "metadata": {},
   "outputs": [
    {
     "name": "stdout",
     "output_type": "stream",
     "text": [
      "Collecting emails\n",
      "  Downloading https://files.pythonhosted.org/packages/55/7e/b648d640d88d31de49e566832aca9cce025c52d6349b0a0fc65e9df1f4c5/emails-0.6-py2.py3-none-any.whl (56kB)\n",
      "Collecting premailer (from emails)\n",
      "  Downloading https://files.pythonhosted.org/packages/cd/ce/74bbdf0eee4265fd3f161d4276b36c9238b802191c2053c8e68578bda4e6/premailer-3.7.0-py2.py3-none-any.whl\n",
      "Requirement already satisfied: python-dateutil in c:\\users\\dell\\anaconda3\\lib\\site-packages (from emails) (2.8.0)\n",
      "Requirement already satisfied: requests in c:\\users\\dell\\anaconda3\\lib\\site-packages (from emails) (2.22.0)\n",
      "Requirement already satisfied: chardet in c:\\users\\dell\\anaconda3\\lib\\site-packages (from emails) (3.0.4)\n",
      "Collecting cssutils (from emails)\n",
      "  Downloading https://files.pythonhosted.org/packages/6b/15/a9fb9010f58d1c55dd0b7779db2334feb9a572d407024f39a60f44293861/cssutils-1.0.2-py3-none-any.whl (406kB)\n",
      "Requirement already satisfied: lxml in c:\\users\\dell\\anaconda3\\lib\\site-packages (from emails) (4.3.4)\n",
      "Collecting cssselect (from premailer->emails)\n",
      "  Downloading https://files.pythonhosted.org/packages/3b/d4/3b5c17f00cce85b9a1e6f91096e1cc8e8ede2e1be8e96b87ce1ed09e92c5/cssselect-1.1.0-py2.py3-none-any.whl\n",
      "Collecting cachetools (from premailer->emails)\n",
      "  Downloading https://files.pythonhosted.org/packages/92/da/d3c94fc7c72ad9298072681ec3e8cea86949acc5c4cce4290ba21f7050a8/cachetools-4.2.0-py3-none-any.whl\n",
      "Requirement already satisfied: six>=1.5 in c:\\users\\dell\\anaconda3\\lib\\site-packages (from python-dateutil->emails) (1.12.0)\n",
      "Requirement already satisfied: idna<2.9,>=2.5 in c:\\users\\dell\\anaconda3\\lib\\site-packages (from requests->emails) (2.8)\n",
      "Requirement already satisfied: urllib3!=1.25.0,!=1.25.1,<1.26,>=1.21.1 in c:\\users\\dell\\anaconda3\\lib\\site-packages (from requests->emails) (1.24.2)\n",
      "Requirement already satisfied: certifi>=2017.4.17 in c:\\users\\dell\\anaconda3\\lib\\site-packages (from requests->emails) (2019.6.16)\n",
      "Installing collected packages: cssselect, cachetools, cssutils, premailer, emails\n",
      "Successfully installed cachetools-4.2.0 cssselect-1.1.0 cssutils-1.0.2 emails-0.6 premailer-3.7.0\n"
     ]
    }
   ],
   "source": [
    "!pip install emails"
   ]
  },
  {
   "cell_type": "code",
   "execution_count": 10,
   "metadata": {},
   "outputs": [],
   "source": [
    "html = '''<p>Hello <strong>Vishwnath Telang,</strong></p>\n",
    "<div style=\"margin-left: 40px;\"><span style=\"font-family: Courier New, courier;\">We are Please to inform that your Paper Selected In the State level Competiton so you are Invited to join the international conference as soon as possible. it will provide a certificate for you.👍️</span></div>\n",
    "<div style=\"margin-left: 360px;\"><br></div>\n",
    "<p><br></p>\n",
    "<p><br></p>\n",
    "<p><br></p>\n",
    "<p style=\"margin-left: 400px;\"><span style=\"font-family: Courier New, courier;\">Regards From,</span></p>\n",
    "<p style=\"margin-left: 400px;\"><span style=\"font-family: Courier New, courier;\">🖕</span></p>'''"
   ]
  },
  {
   "cell_type": "code",
   "execution_count": 14,
   "metadata": {},
   "outputs": [],
   "source": [
    "import emails\n",
    "message = emails.html(html=html,\n",
    "                          subject=\"Paper Submission\",\n",
    "                          mail_from=('Internet of things', 'ICIOT-2020'))"
   ]
  },
  {
   "cell_type": "code",
   "execution_count": 15,
   "metadata": {},
   "outputs": [],
   "source": [
    "r = message.send(to='telangvishwnath@gmail.com', \n",
    "                 smtp={'host': 'smtp.gmail.com', \n",
    "                       'timeout': 5,\n",
    "                        'port': 587,\n",
    "                          'user': 'nachiketgujalwar700@gmail.com',\n",
    "                          'password': 'Archana@123',\n",
    "                              'tls':True})"
   ]
  },
  {
   "cell_type": "code",
   "execution_count": 16,
   "metadata": {},
   "outputs": [
    {
     "data": {
      "text/plain": [
       "<emails.backend.SMTPResponse status_code=250 status_text=b'2.0.0 OK  1608122223 14sm181374pfi.131 - gsmtp'>"
      ]
     },
     "execution_count": 16,
     "metadata": {},
     "output_type": "execute_result"
    }
   ],
   "source": [
    "r"
   ]
  },
  {
   "cell_type": "code",
   "execution_count": null,
   "metadata": {},
   "outputs": [],
   "source": []
  }
 ],
 "metadata": {
  "kernelspec": {
   "display_name": "Python 3",
   "language": "python",
   "name": "python3"
  },
  "language_info": {
   "codemirror_mode": {
    "name": "ipython",
    "version": 3
   },
   "file_extension": ".py",
   "mimetype": "text/x-python",
   "name": "python",
   "nbconvert_exporter": "python",
   "pygments_lexer": "ipython3",
   "version": "3.7.3"
  }
 },
 "nbformat": 4,
 "nbformat_minor": 2
}
