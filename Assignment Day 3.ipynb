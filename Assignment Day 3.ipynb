{
 "cells": [
  {
   "cell_type": "markdown",
   "metadata": {},
   "source": [
    "# Assignment Day 3"
   ]
  },
  {
   "cell_type": "markdown",
   "metadata": {},
   "source": [
    "# Question 1"
   ]
  },
  {
   "cell_type": "code",
   "execution_count": 89,
   "metadata": {},
   "outputs": [],
   "source": [
    "\n",
    "marks = {90 : 'hulk',45 : 'black widow',60:'spiderman',70 : 'ironman',80 : 'captain'}"
   ]
  },
  {
   "cell_type": "code",
   "execution_count": 93,
   "metadata": {},
   "outputs": [
    {
     "name": "stdout",
     "output_type": "stream",
     "text": [
      "Grade -> A for  hulk\n",
      "Grade -> c for  black widow\n",
      "Grade -> B for  spiderman\n",
      "Grade -> B for  ironman\n",
      "Grade -> B for  captain\n"
     ]
    }
   ],
   "source": [
    "for mark in marks:\n",
    "    if mark >= 90 :\n",
    "        print(\"Grade -> A for \",marks.get(mark))      \n",
    "    elif mark >= 60 and mark <90:\n",
    "        print(\"Grade -> B for \",marks.get(mark))\n",
    "    elif mark >= 40 and mark < 60:\n",
    "        print(\"Grade -> c for \",marks.get(mark))\n",
    "    else:\n",
    "        print( \"Failed for \",marks.get(mark))\n",
    "    \n",
    "        \n",
    "    \n"
   ]
  },
  {
   "cell_type": "markdown",
   "metadata": {},
   "source": [
    "# Question 2"
   ]
  },
  {
   "cell_type": "code",
   "execution_count": 106,
   "metadata": {},
   "outputs": [
    {
     "name": "stdout",
     "output_type": "stream",
     "text": [
      "1 2 3 5 7 11 13 17 19 23 29 31 37 41 43 47 53 59 61 67 71 73 79 83 89 97 "
     ]
    }
   ],
   "source": [
    "for i in range(1,101):\n",
    "    count = 0\n",
    "    for x in range(2,(i//2+1)):\n",
    "        if i % x == 0:\n",
    "            count +=1\n",
    "            break\n",
    "    if count == 0 and x != 1:\n",
    "        print(i,end = ' ')"
   ]
  },
  {
   "cell_type": "markdown",
   "metadata": {},
   "source": [
    "# Question 3"
   ]
  },
  {
   "cell_type": "code",
   "execution_count": 170,
   "metadata": {},
   "outputs": [
    {
     "name": "stdout",
     "output_type": "stream",
     "text": [
      "1 2 3 4 5 6 7 8 9 10 \n",
      "2 4 6 8 10 12 14 16 18 20 \n",
      "3 6 9 12 15 18 21 24 27 30 \n",
      "4 8 12 16 20 24 28 32 36 40 \n",
      "5 10 15 20 25 30 35 40 45 50 \n",
      "6 12 18 24 30 36 42 48 54 60 \n",
      "7 14 21 28 35 42 49 56 63 70 \n",
      "8 16 24 32 40 48 56 64 72 80 \n",
      "9 18 27 36 45 54 63 72 81 90 \n",
      "10 20 30 40 50 60 70 80 90 100 \n"
     ]
    }
   ],
   "source": [
    "for i in range(1,11):\n",
    "    x = 1*i\n",
    "    print(x,end=\" \")\n",
    "print(\"\\n\",end =\"\")\n",
    "for i in range(1,11):\n",
    "    x = 2*i\n",
    "    print(x,end=\" \")\n",
    "print(\"\\n\",end=\"\")\n",
    "for i in range(1,11):\n",
    "    x = 3*i\n",
    "    print(x,end=\" \")\n",
    "print(\"\\n\",end=\"\")\n",
    "for i in range(1,11):\n",
    "    x = 4*i\n",
    "    print(x,end=\" \")\n",
    "print(\"\\n\",end=\"\")\n",
    "for i in range(1,11):\n",
    "    x = 5*i\n",
    "    print(x,end=\" \")\n",
    "print(\"\\n\",end=\"\")\n",
    "for i in range(1,11):\n",
    "    x = 6*i\n",
    "    print(x,end=\" \")\n",
    "print(\"\\n\",end=\"\")\n",
    "for i in range(1,11):\n",
    "    x = 7*i\n",
    "    print(x,end=\" \")\n",
    "print(\"\\n\",end=\"\")\n",
    "for i in range(1,11):\n",
    "    x = 8*i\n",
    "    print(x,end=\" \")\n",
    "print(\"\\n\",end=\"\")\n",
    "for i in range(1,11):\n",
    "    x = 9*i\n",
    "    print(x,end=\" \")\n",
    "print(\"\\n\",end=\"\")\n",
    "for i in range(1,11):\n",
    "    x = 10*i\n",
    "    print(x,end=\" \")\n",
    "print(\"\\n\",end=\"\")\n",
    "    \n"
   ]
  },
  {
   "cell_type": "markdown",
   "metadata": {},
   "source": [
    "# Question 4"
   ]
  },
  {
   "cell_type": "code",
   "execution_count": 178,
   "metadata": {},
   "outputs": [
    {
     "name": "stdout",
     "output_type": "stream",
     "text": [
      "Enter the Number 155\n",
      "0 1 2 3 5 7 11 13 17 19 23 29 31 37 41 43 47 53 59 61 67 71 73 79 83 89 97 101 103 107 109 113 127 131 137 139 149 151 "
     ]
    }
   ],
   "source": [
    "x = int(input(\"Enter the Number \"))\n",
    "for i in range(0,x+1):\n",
    "    count = 0\n",
    "    for x in range(2,(i//2+1)):\n",
    "        if i % x == 0:\n",
    "            count +=1\n",
    "            break\n",
    "    if count == 0 and x != 1:\n",
    "        print(i,end = ' ')\n",
    "    "
   ]
  },
  {
   "cell_type": "code",
   "execution_count": null,
   "metadata": {},
   "outputs": [],
   "source": []
  }
 ],
 "metadata": {
  "kernelspec": {
   "display_name": "Python 3",
   "language": "python",
   "name": "python3"
  },
  "language_info": {
   "codemirror_mode": {
    "name": "ipython",
    "version": 3
   },
   "file_extension": ".py",
   "mimetype": "text/x-python",
   "name": "python",
   "nbconvert_exporter": "python",
   "pygments_lexer": "ipython3",
   "version": "3.7.3"
  }
 },
 "nbformat": 4,
 "nbformat_minor": 2
}
